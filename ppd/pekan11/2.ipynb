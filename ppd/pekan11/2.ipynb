{
 "cells": [
  {
   "cell_type": "markdown",
   "metadata": {},
   "source": [
    "# Tugas 2\n",
    "\n",
    "- Silahkan mencari dataset lain. Dari dataset tersebut, ambil 1000 baris saja untuk mempercepat komputasi\n",
    "- Dengan menggunakan kombinasi antara BOW atau TF-IDF, pasangkan dengan model klasifikasi, seperti MLP, DT, RF, LR, AdaBoost, dll\n",
    "- Tampilkan hasilnya, dan pilih kombinasi terbaik (feature extraction method + classifier)\n",
    "\n",
    "sentiment analysis using https://www.kaggle.com/datasets/anggapurnama/twitter-dataset-ppkm dataset from Kaggle and build classification models.\n",
    "\n",
    "Label: 0 (Positive), 1 (Neutral), 2 (Negative)"
   ]
  },
  {
   "cell_type": "code",
   "execution_count": 1,
   "metadata": {},
   "outputs": [
    {
     "name": "stdout",
     "output_type": "stream",
     "text": [
      "Collecting git+https://github.com/ariaghora/mpstemmer.git\n",
      "  Cloning https://github.com/ariaghora/mpstemmer.git to /tmp/pip-req-build-_0nkcnu2\n",
      "  Running command git clone --filter=blob:none --quiet https://github.com/ariaghora/mpstemmer.git /tmp/pip-req-build-_0nkcnu2\n",
      "  Resolved https://github.com/ariaghora/mpstemmer.git to commit 25a5fd923af163a7eac3a5ec976984156ca8fa8b\n",
      "  Installing build dependencies ... \u001b[?25ldone\n",
      "\u001b[?25h  Getting requirements to build wheel ... \u001b[?25ldone\n",
      "\u001b[?25h  Installing backend dependencies ... \u001b[?25ldone\n",
      "\u001b[?25h  Preparing metadata (pyproject.toml) ... \u001b[?25ldone\n",
      "\u001b[?25hBuilding wheels for collected packages: mpstemmer\n",
      "  Building wheel for mpstemmer (pyproject.toml) ... \u001b[?25ldone\n",
      "\u001b[?25h  Created wheel for mpstemmer: filename=mpstemmer-0.1.0-py3-none-any.whl size=99801 sha256=341bcff942b19a6552ac31f2834fa4d0a158bc42d6c089c85ee5913d9691371c\n",
      "  Stored in directory: /tmp/pip-ephem-wheel-cache-s9imrw1k/wheels/85/1f/78/fccc1e7e90613593e0a66304a3711d678e3013034d91534182\n",
      "Successfully built mpstemmer\n",
      "Installing collected packages: mpstemmer\n",
      "Successfully installed mpstemmer-0.1.0\n",
      "Note: you may need to restart the kernel to use updated packages.\n"
     ]
    }
   ],
   "source": [
    "%pip install --upgrade git+https://github.com/ariaghora/mpstemmer.git"
   ]
  },
  {
   "cell_type": "code",
   "execution_count": 3,
   "metadata": {},
   "outputs": [
    {
     "data": {
      "text/html": [
       "<div>\n",
       "<style scoped>\n",
       "    .dataframe tbody tr th:only-of-type {\n",
       "        vertical-align: middle;\n",
       "    }\n",
       "\n",
       "    .dataframe tbody tr th {\n",
       "        vertical-align: top;\n",
       "    }\n",
       "\n",
       "    .dataframe thead th {\n",
       "        text-align: right;\n",
       "    }\n",
       "</style>\n",
       "<table border=\"1\" class=\"dataframe\">\n",
       "  <thead>\n",
       "    <tr style=\"text-align: right;\">\n",
       "      <th></th>\n",
       "      <th>Date</th>\n",
       "      <th>User</th>\n",
       "      <th>Tweet</th>\n",
       "      <th>sentiment</th>\n",
       "    </tr>\n",
       "  </thead>\n",
       "  <tbody>\n",
       "    <tr>\n",
       "      <th>0</th>\n",
       "      <td>2022-03-31 14:32:04+00:00</td>\n",
       "      <td>pikobar_jabar</td>\n",
       "      <td>Ketahui informasi pembagian #PPKM di wilayah J...</td>\n",
       "      <td>1</td>\n",
       "    </tr>\n",
       "    <tr>\n",
       "      <th>1</th>\n",
       "      <td>2022-03-31 09:26:00+00:00</td>\n",
       "      <td>inewsdotid</td>\n",
       "      <td>Tempat Ibadah di Wilayah PPKM Level 1 Boleh Be...</td>\n",
       "      <td>1</td>\n",
       "    </tr>\n",
       "    <tr>\n",
       "      <th>2</th>\n",
       "      <td>2022-03-31 05:02:34+00:00</td>\n",
       "      <td>vdvc_talk</td>\n",
       "      <td>Juru bicara Satgas Covid-19, Wiku Adisasmito m...</td>\n",
       "      <td>1</td>\n",
       "    </tr>\n",
       "    <tr>\n",
       "      <th>3</th>\n",
       "      <td>2022-03-30 14:23:10+00:00</td>\n",
       "      <td>pikobar_jabar</td>\n",
       "      <td>Ketahui informasi pembagian #PPKM di wilayah J...</td>\n",
       "      <td>1</td>\n",
       "    </tr>\n",
       "    <tr>\n",
       "      <th>4</th>\n",
       "      <td>2022-03-30 11:28:57+00:00</td>\n",
       "      <td>tvOneNews</td>\n",
       "      <td>Kementerian Agama menerbitkan Surat Edaran Nom...</td>\n",
       "      <td>1</td>\n",
       "    </tr>\n",
       "  </tbody>\n",
       "</table>\n",
       "</div>"
      ],
      "text/plain": [
       "                        Date           User  \\\n",
       "0  2022-03-31 14:32:04+00:00  pikobar_jabar   \n",
       "1  2022-03-31 09:26:00+00:00     inewsdotid   \n",
       "2  2022-03-31 05:02:34+00:00      vdvc_talk   \n",
       "3  2022-03-30 14:23:10+00:00  pikobar_jabar   \n",
       "4  2022-03-30 11:28:57+00:00      tvOneNews   \n",
       "\n",
       "                                               Tweet  sentiment  \n",
       "0  Ketahui informasi pembagian #PPKM di wilayah J...          1  \n",
       "1  Tempat Ibadah di Wilayah PPKM Level 1 Boleh Be...          1  \n",
       "2  Juru bicara Satgas Covid-19, Wiku Adisasmito m...          1  \n",
       "3  Ketahui informasi pembagian #PPKM di wilayah J...          1  \n",
       "4  Kementerian Agama menerbitkan Surat Edaran Nom...          1  "
      ]
     },
     "execution_count": 3,
     "metadata": {},
     "output_type": "execute_result"
    }
   ],
   "source": [
    "import pandas as pd\n",
    "\n",
    "df = pd.read_csv(\"data/indoppkmtweet.csv\", sep=\"\\t\")\n",
    "df.head()"
   ]
  },
  {
   "cell_type": "code",
   "execution_count": 1,
   "metadata": {},
   "outputs": [
    {
     "ename": "ModuleNotFoundError",
     "evalue": "No module named 'Levenshtein'",
     "output_type": "error",
     "traceback": [
      "\u001b[0;31m---------------------------------------------------------------------------\u001b[0m",
      "\u001b[0;31mModuleNotFoundError\u001b[0m                       Traceback (most recent call last)",
      "Cell \u001b[0;32mIn[1], line 8\u001b[0m\n\u001b[1;32m      6\u001b[0m \u001b[38;5;28;01mimport\u001b[39;00m \u001b[38;5;21;01mstring\u001b[39;00m\n\u001b[1;32m      7\u001b[0m \u001b[38;5;28;01mimport\u001b[39;00m \u001b[38;5;21;01mre\u001b[39;00m\n\u001b[0;32m----> 8\u001b[0m \u001b[38;5;28;01mfrom\u001b[39;00m \u001b[38;5;21;01mmpstemmer\u001b[39;00m \u001b[38;5;28;01mimport\u001b[39;00m MPStemmer\n\u001b[1;32m      9\u001b[0m \u001b[38;5;28;01mfrom\u001b[39;00m \u001b[38;5;21;01msklearn\u001b[39;00m\u001b[38;5;21;01m.\u001b[39;00m\u001b[38;5;21;01mmodel_selection\u001b[39;00m \u001b[38;5;28;01mimport\u001b[39;00m train_test_split\n\u001b[1;32m     10\u001b[0m \u001b[38;5;28;01mfrom\u001b[39;00m \u001b[38;5;21;01msklearn\u001b[39;00m\u001b[38;5;21;01m.\u001b[39;00m\u001b[38;5;21;01mfeature_extraction\u001b[39;00m\u001b[38;5;21;01m.\u001b[39;00m\u001b[38;5;21;01mtext\u001b[39;00m \u001b[38;5;28;01mimport\u001b[39;00m CountVectorizer, TfidfVectorizer\n",
      "File \u001b[0;32m~/Documents/kuliah/semester6/belajar-pandas/.venv/lib/python3.12/site-packages/mpstemmer/__init__.py:1\u001b[0m\n\u001b[0;32m----> 1\u001b[0m \u001b[38;5;28;01mfrom\u001b[39;00m \u001b[38;5;21;01m.\u001b[39;00m\u001b[38;5;21;01mmpstemmer\u001b[39;00m \u001b[38;5;28;01mimport\u001b[39;00m MPStemmer\n",
      "File \u001b[0;32m~/Documents/kuliah/semester6/belajar-pandas/.venv/lib/python3.12/site-packages/mpstemmer/mpstemmer.py:4\u001b[0m\n\u001b[1;32m      2\u001b[0m \u001b[38;5;28;01mimport\u001b[39;00m \u001b[38;5;21;01mjson\u001b[39;00m\n\u001b[1;32m      3\u001b[0m \u001b[38;5;28;01mimport\u001b[39;00m \u001b[38;5;21;01mre\u001b[39;00m\n\u001b[0;32m----> 4\u001b[0m \u001b[38;5;28;01mimport\u001b[39;00m \u001b[38;5;21;01mLevenshtein\u001b[39;00m\n\u001b[1;32m      6\u001b[0m \u001b[38;5;28;01mfrom\u001b[39;00m \u001b[38;5;21;01m.\u001b[39;00m \u001b[38;5;28;01mimport\u001b[39;00m csstemmer\n\u001b[1;32m      9\u001b[0m \u001b[38;5;28;01mclass\u001b[39;00m \u001b[38;5;21;01mMPStemmer\u001b[39;00m:\n",
      "\u001b[0;31mModuleNotFoundError\u001b[0m: No module named 'Levenshtein'"
     ]
    }
   ],
   "source": [
    "import numpy as np\n",
    "import pandas as pd\n",
    "import matplotlib.pyplot as plt\n",
    "from pprint import pprint\n",
    "from collections import Counter\n",
    "import string\n",
    "import re\n",
    "from mpstemmer import MPStemmer\n",
    "from sklearn.model_selection import train_test_split\n",
    "from sklearn.feature_extraction.text import CountVectorizer, TfidfVectorizer\n",
    "from sklearn.pipeline import Pipeline\n",
    "from sklearn.linear_model import LogisticRegression\n",
    "from sklearn.svm import SVC\n",
    "from sklearn.metrics import accuracy_score\n",
    "from sklearn.decomposition import TruncatedSVD\n",
    "from sklearn.metrics import classification_report"
   ]
  }
 ],
 "metadata": {
  "kernelspec": {
   "display_name": ".venv",
   "language": "python",
   "name": "python3"
  },
  "language_info": {
   "codemirror_mode": {
    "name": "ipython",
    "version": 3
   },
   "file_extension": ".py",
   "mimetype": "text/x-python",
   "name": "python",
   "nbconvert_exporter": "python",
   "pygments_lexer": "ipython3",
   "version": "3.12.1"
  }
 },
 "nbformat": 4,
 "nbformat_minor": 2
}
