{
 "cells": [
  {
   "cell_type": "code",
   "execution_count": 3,
   "metadata": {},
   "outputs": [],
   "source": [
    "# import libraries\n",
    "import numpy as np\n",
    "import pandas as pd\n",
    "from math import sqrt\n",
    "import matplotlib.pyplot as plt\n",
    "from sklearn.ensemble import RandomForestRegressor\n",
    "import math\n",
    "from sklearn.metrics import mean_squared_error\n",
    "from numpy import array\n",
    "from sklearn.neural_network import MLPRegressor\n",
    "from sklearn.neighbors import KNeighborsRegressor\n",
    "from scipy.stats import pearsonr, kurtosis, skew\n",
    "from sklearn.tree import DecisionTreeRegressor\n",
    "from sklearn.svm import SVC, SVR\n",
    "from xgboost import XGBClassifier\n",
    "\n",
    "from sklearn import preprocessing\n",
    "from sklearn.model_selection import train_test_split\n",
    "from sklearn import metrics\n"
   ]
  },
  {
   "cell_type": "code",
   "execution_count": null,
   "metadata": {},
   "outputs": [],
   "source": [
    "# buat fungsi untuk merubah timeseries data menjadi input X dan output y, dengan teknik sliding window\n",
    "def split_sequences(sequences, n_steps_in, n_steps_out):\n",
    "    X, y = list(), list()\n",
    "    for i in range(len(sequences)):\n",
    "        # find the end of this pattern\n",
    "        end_ix = i + n_steps_in\n",
    "        out_end_ix = end_ix + n_steps_out\n",
    "        # check if we are beyond the dataset\n",
    "        if out_end_ix > len(sequences):\n",
    "            break\n",
    "        # gather input and output parts of the pattern\n",
    "        seq_x, seq_y = sequences[i:end_ix], sequences[end_ix:out_end_ix]\n",
    "        X.append(seq_x)\n",
    "        y.append(seq_y)\n",
    "    return array(X), array(y)"
   ]
  },
  {
   "cell_type": "code",
   "execution_count": null,
   "metadata": {},
   "outputs": [],
   "source": [
    "# fungsi tambahan untuk membuat statistical features, semoga meningkatkan akurasi\n",
    "def stats_features(input_data):\n",
    "    inp = list()\n",
    "    for i in range(len(input_data)):\n",
    "        inp2 = list()\n",
    "        inp2 = input_data[i]\n",
    "        min=float(np.min(inp2))\n",
    "        max=float(np.max(inp2))\n",
    "        diff=float(max-min)\n",
    "        std=float(np.std(inp2))\n",
    "        mean=float(np.mean(inp2))\n",
    "        median=float(np.median(inp2))\n",
    "        kurt=float(kurtosis(inp2))\n",
    "        sk=float(skew(inp2))\n",
    "        inp2=np.apped(inp2,min)\n",
    "        inp2=np.apped(inp2,max)\n",
    "        inp2=np.apped(inp2,diff)\n",
    "        inp2=np.apped(inp2,std)\n",
    "        inp2=np.apped(inp2,mean)\n",
    "        inp2=np.apped(inp2,median)\n",
    "        inp2=np.apped(inp2,kurt)\n",
    "        inp2=np.apped(inp2,sk)\n",
    "        # print(list(inp2))\n",
    "        inp=np.append(inp,inp2)\n",
    "    inp=inp.reshape(len(input_data),-1)\n",
    "    # print(inp)\n",
    "    return inp"
   ]
  },
  {
   "cell_type": "code",
   "execution_count": null,
   "metadata": {},
   "outputs": [],
   "source": [
    "# model untuk neural network (MLP multi layer perceptron)\n",
    "def mlp(X_train, X_test, y_train, y_test):\n",
    "    mlp_model = MLPRegressor(random_state=42)\n",
    "    mlp_model.fit(X_train, y_train)\n",
    "    # get the predictions\n",
    "    y_pred = mlp_model.predict(X_test)\n",
    "    y_pred = np.round(y_pred, 0)\n",
    "    # get rmse for the model\n",
    "    rmse = sqrt(mean_squared_error(y_test, y_pred))\n",
    "    # get pearson correlation\n",
    "    corr, p_value = pearsonr(y_test, y_pred)\n",
    "    # returning the rmse, correlation, and the predictions result\n",
    "    return rmse, corr, y_pred\n"
   ]
  },
  {
   "cell_type": "code",
   "execution_count": null,
   "metadata": {},
   "outputs": [],
   "source": [
    "# model untuk KNN (K Nearest Neighbors)\n",
    "def knn(X_train, X_test, y_train, y_test):\n",
    "    knn_model = KNeighborsRegressor(n_neighbors=3)\n",
    "    knn_model.fit(X_train, y_train)\n",
    "    # get the predictions\n",
    "    y_pred = knn_model.predict(X_test)\n",
    "    y_pred = np.round(y_pred, 0)\n",
    "    # get rmse for the model\n",
    "    rmse = sqrt(mean_squared_error(y_test, y_pred))\n",
    "    # get pearson correlation\n",
    "    corr, p_value = pearsonr(y_test, y_pred)\n",
    "    # returning the rmse, correlation, and the predictions result\n",
    "    return rmse, corr, y_pred"
   ]
  },
  {
   "cell_type": "code",
   "execution_count": null,
   "metadata": {},
   "outputs": [],
   "source": [
    "# model untuk decision tree\n",
    "def dt(X_train, X_test, y_train, y_test):\n",
    "    dt_model = DecisionTreeRegressor(random_state=42)\n",
    "    dt_model.fit(X_train, y_train)\n",
    "    # get the predictions\n",
    "    y_pred = dt_model.predict(X_test)\n",
    "    y_pred = np.round(y_pred, 0)\n",
    "    # get rmse for the model\n",
    "    rmse = sqrt(mean_squared_error(y_test, y_pred))\n",
    "    # get pearson correlation\n",
    "    corr, p_value = pearsonr(y_test, y_pred)\n",
    "    # returning the rmse, correlation, and the predictions result\n",
    "    return rmse, corr, y_pred"
   ]
  },
  {
   "cell_type": "code",
   "execution_count": null,
   "metadata": {},
   "outputs": [],
   "source": [
    "# model untuk SVR (Support Vector Regression)\n",
    "def svr(X_train, X_test, y_train, y_test):\n",
    "    svr_model = SVR()\n",
    "    svr_model.fit(X_train, y_train)\n",
    "    # get the predictions\n",
    "    y_pred = svr_model.predict(X_test)\n",
    "    y_pred = np.round(y_pred, 0)\n",
    "    # get rmse for the model\n",
    "    rmse = sqrt(mean_squared_error(y_test, y_pred))\n",
    "    # get pearson correlation\n",
    "    corr, p_value = pearsonr(y_test, y_pred)\n",
    "    # returning the rmse, correlation, and the predictions result\n",
    "    return rmse, corr, y_pred"
   ]
  },
  {
   "cell_type": "code",
   "execution_count": null,
   "metadata": {},
   "outputs": [],
   "source": [
    "# model untuk random forest\n",
    "def rf(X_train, X_test, y_train, y_test):\n",
    "    rf_model = RandomForestRegressor(random_state=42)\n",
    "    rf_model.fit(X_train, y_train)\n",
    "    # get the predictions\n",
    "    y_pred = rf_model.predict(X_test)\n",
    "    y_pred = np.round(y_pred, 0)\n",
    "    # get rmse for the model\n",
    "    rmse = sqrt(mean_squared_error(y_test, y_pred))\n",
    "    # get pearson correlation\n",
    "    corr, p_value = pearsonr(y_test, y_pred)\n",
    "    # returning the rmse, correlation, and the predictions result\n",
    "    return rmse, corr, y_pred"
   ]
  },
  {
   "cell_type": "code",
   "execution_count": null,
   "metadata": {},
   "outputs": [],
   "source": [
    "# import dataset\n",
    "data = pd.read_csv('bikesharing_day.csv')"
   ]
  }
 ],
 "metadata": {
  "kernelspec": {
   "display_name": ".venv",
   "language": "python",
   "name": "python3"
  },
  "language_info": {
   "codemirror_mode": {
    "name": "ipython",
    "version": 3
   },
   "file_extension": ".py",
   "mimetype": "text/x-python",
   "name": "python",
   "nbconvert_exporter": "python",
   "pygments_lexer": "ipython3",
   "version": "3.12.1"
  }
 },
 "nbformat": 4,
 "nbformat_minor": 2
}
