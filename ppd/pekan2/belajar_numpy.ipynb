{
  "cells": [
    {
      "cell_type": "code",
      "execution_count": null,
      "metadata": {
        "colab": {
          "base_uri": "https://localhost:8080/"
        },
        "id": "1hXwAqAbz7-f",
        "outputId": "08108b3f-0dc6-4514-fd36-3e478cde8237"
      },
      "outputs": [
        {
          "name": "stdout",
          "output_type": "stream",
          "text": [
            "[1 2 3 4 5] <class 'numpy.ndarray'> 1\n",
            "[[1 2 3 4 5]\n",
            " [1 2 3 4 5]] <class 'numpy.ndarray'> 2\n",
            "[[[1 2 3 4 5]\n",
            "  [1 2 3 4 5]\n",
            "  [1 2 3 4 5]]] <class 'numpy.ndarray'> 3\n"
          ]
        }
      ],
      "source": [
        "import numpy as np\n",
        "\n",
        "arr1 = np.array([1,2,3,4,5])\n",
        "arr2 = np.array([[1,2,3,4,5], [1,2,3,4,5]])\n",
        "arr3 = np.array([[[1,2,3,4,5], [1,2,3,4,5], [1,2,3,4,5]]])\n",
        "\n",
        "print(arr1, type(arr1), arr1.ndim)\n",
        "print(arr2, type(arr2), arr2.ndim)\n",
        "print(arr3, type(arr3), arr3.ndim)"
      ]
    },
    {
      "cell_type": "code",
      "execution_count": null,
      "metadata": {
        "colab": {
          "base_uri": "https://localhost:8080/"
        },
        "id": "IsyZgL1s02Gx",
        "outputId": "283f7b20-5115-4030-b5f1-fed879ee0782"
      },
      "outputs": [
        {
          "name": "stdout",
          "output_type": "stream",
          "text": [
            "2\n",
            "9\n",
            "8\n"
          ]
        }
      ],
      "source": [
        "#  indexing dalam ndarray\n",
        "import numpy as np\n",
        "\n",
        "arr1 = np.array([1,2,3,4,5])\n",
        "arr2 = np.array([[1,2,3,4,5], [9,2,3,4,5]])\n",
        "arr3 = np.array([[[1,2,3,4,5], [6,7,8,9,10], [11,12,13,14,15]]])\n",
        "\n",
        "#array 1 dimensi menampilkan data kedua yaitu index 1\n",
        "print(arr1[1])\n",
        "#array 2 dimensi mengambil baris kedua, kolom pertama\n",
        "print(arr2[1, 0])\n",
        "#array 3 dimensi mengambil baris kedua kolom pertama\n",
        "print(arr3[0,1,2])"
      ]
    },
    {
      "cell_type": "code",
      "execution_count": null,
      "metadata": {
        "colab": {
          "base_uri": "https://localhost:8080/"
        },
        "id": "N5RFQbfkCxgL",
        "outputId": "54c23ed4-7814-4890-c588-863f6a1dc988"
      },
      "outputs": [
        {
          "name": "stdout",
          "output_type": "stream",
          "text": [
            "[7 8 9]\n",
            "[3 8]\n"
          ]
        }
      ],
      "source": [
        "# slicing array\n",
        "\n",
        "import numpy as np\n",
        "\n",
        "arr1 = np.array([1,2,3,4,5,6,7,8,9])\n",
        "arr2 = np.array([[1,2,3,4,5], [6,7,8,9,10]])\n",
        "\n",
        "#slicing 1 dimensi\n",
        "# dari index ke 1 sampai 4\n",
        "print(arr1[1:5])\n",
        "# dari awal sampai index ke 2\n",
        "print(arr1[:3])\n",
        "# dari index ke 3 sampai akhir\n",
        "print(arr1[3:])\n",
        "# dari index ke 2 sampai 4 dengan 2 step\n",
        "print(arr1[1:5:2])\n",
        "\n",
        "print(\"---------------\")\n",
        "\n",
        "# slicing 2 dimensi\n",
        "# array kedua, index 1 sampai 3\n",
        "print(arr2[1, 1:4])\n",
        "# array pertama dan kedua untuk setiap array index ke 2\n",
        "print(arr2[0:2, 2])"
      ]
    },
    {
      "cell_type": "code",
      "execution_count": null,
      "metadata": {
        "colab": {
          "base_uri": "https://localhost:8080/"
        },
        "id": "AD1aV2op1uCB",
        "outputId": "d18f87e5-273b-421e-86bc-66ced47be64f"
      },
      "outputs": [
        {
          "name": "stdout",
          "output_type": "stream",
          "text": [
            "['1' '2' '3' '4' '5'] <U21\n",
            "[1. 2. 3. 4. 5.] float32\n"
          ]
        }
      ],
      "source": [
        "import numpy as np\n",
        "\n",
        "arr = np.array([1,2,3,4,5])\n",
        "\n",
        "str_arr = arr.astype(str)\n",
        "print(str_arr, str_arr.dtype)\n",
        "\n",
        "fl_arr = arr.astype('f')\n",
        "print(fl_arr, fl_arr.dtype)"
      ]
    },
    {
      "cell_type": "code",
      "execution_count": null,
      "metadata": {
        "colab": {
          "base_uri": "https://localhost:8080/"
        },
        "id": "8luLDEKyNX_O",
        "outputId": "aba1da5d-cdc0-47aa-a479-c2f81669b10a"
      },
      "outputs": [
        {
          "name": "stdout",
          "output_type": "stream",
          "text": [
            "(5,)\n",
            "(2, 5)\n",
            "(1, 3, 5)\n"
          ]
        }
      ],
      "source": [
        "import numpy as np\n",
        "\n",
        "arr1 = np.array([1,2,3,4,5])\n",
        "arr2 = np.array([[1,2,3,4,5], [1,2,3,4,5]])\n",
        "arr3 = np.array([[[1,2,3,4,5], [1,2,3,4,5], [1,2,3,4,5]]])\n",
        "\n",
        "print(arr1.shape)\n",
        "print(arr2.shape)\n",
        "print(arr3.shape)"
      ]
    },
    {
      "cell_type": "code",
      "execution_count": null,
      "metadata": {
        "colab": {
          "base_uri": "https://localhost:8080/"
        },
        "id": "lVJ76qxxPxzR",
        "outputId": "c2f685c1-078c-4036-e749-bf3197b1f5c8"
      },
      "outputs": [
        {
          "name": "stdout",
          "output_type": "stream",
          "text": [
            "[[ 1  2  3  4]\n",
            " [ 5  6  7  8]\n",
            " [ 9 10 11 12]]\n",
            "[1 2 3 4 5 1 2 3 4 5]\n",
            "[[[ 1  2]\n",
            "  [ 3  4]\n",
            "  [ 5  6]]\n",
            "\n",
            " [[ 7  8]\n",
            "  [ 9 10]\n",
            "  [11 12]]]\n"
          ]
        }
      ],
      "source": [
        "import numpy as np\n",
        "arr1 = np.array([1,2,3,4,5,6,7,8,9,10,11,12])\n",
        "arr2 = np.array([[1,2,3,4,5], [1,2,3,4,5]])\n",
        "arr3 = np.array([[[1,2,3,4,5], [1,2,3,4,5], [1,2,3,4,5]]])\n",
        "# mengubah array 1 dimensi jadi 2 dimensi\n",
        "print(arr1.reshape(3,4))\n",
        "# membuat array 2 dimensi jadi 1 dimensi (flatenning)\n",
        "print(arr2.reshape(-1))\n",
        "# membuat array 1 dimensi jadi 3 dimensi\n",
        "print(arr1.reshape(2,3,2))"
      ]
    },
    {
      "cell_type": "code",
      "execution_count": null,
      "metadata": {
        "colab": {
          "base_uri": "https://localhost:8080/"
        },
        "id": "ivi52e2ATnFR",
        "outputId": "56059352-0324-4f8c-8b48-cb9a68974029"
      },
      "outputs": [
        {
          "name": "stdout",
          "output_type": "stream",
          "text": [
            "1\n",
            "2\n",
            "3\n",
            "4\n",
            "5\n",
            "1, 2, 3, 4, 5, \n",
            "1, 2, 3, 4, 5, \n"
          ]
        }
      ],
      "source": [
        "# iterasi pada ndarray\n",
        "import numpy as np\n",
        "arr1 = np.array([1,2,3,4,5])\n",
        "arr2 = np.array([[1,2,3,4,5], [1,2,3,4,5]])\n",
        "\n",
        "# iterasi pada ndarray 1 dimensi\n",
        "for x in arr1:\n",
        "  print(x)\n",
        "\n",
        "# iterasi pada ndarray 2 dimensi\n",
        "for x in arr2:\n",
        "  for y in x:\n",
        "    print(y, end=', ')\n",
        "  print('')"
      ]
    },
    {
      "cell_type": "code",
      "execution_count": null,
      "metadata": {
        "colab": {
          "base_uri": "https://localhost:8080/"
        },
        "id": "2GIFKRT5VK3n",
        "outputId": "4cc21205-e135-44e0-8c56-0878eeb14d04"
      },
      "outputs": [
        {
          "name": "stdout",
          "output_type": "stream",
          "text": [
            "[[ 1  2  3  4  5]\n",
            " [ 6  7  8  9 10]]\n",
            "[[ 1  2  3  4  5  6  7  8  9 10]]\n"
          ]
        }
      ],
      "source": [
        "import numpy as np\n",
        "\n",
        "arr1 = np.array([[1,2,3,4,5]])\n",
        "arr2 = np.array([[6,7,8,9,10]])\n",
        "\n",
        "arr = np.concatenate((arr1, arr2), axis=0)\n",
        "arr_flat = np.concatenate((arr1, arr2), axis=1)\n",
        "\n",
        "print(arr)\n",
        "print(arr_flat)"
      ]
    },
    {
      "cell_type": "code",
      "execution_count": null,
      "metadata": {
        "colab": {
          "base_uri": "https://localhost:8080/"
        },
        "id": "qy9XpMc9W84h",
        "outputId": "7a334ba3-2a2a-406e-ed13-3a3d293dac83"
      },
      "outputs": [
        {
          "name": "stdout",
          "output_type": "stream",
          "text": [
            "[array([1, 2]), array([3, 4]), array([5, 6])]\n"
          ]
        }
      ],
      "source": [
        "import numpy as np\n",
        "\n",
        "arr1 = np.array([1,2,3,4,5,6])\n",
        "arr2 = np.array_split(arr1,3)\n",
        "\n",
        "\n",
        "print(arr2)"
      ]
    },
    {
      "cell_type": "code",
      "execution_count": null,
      "metadata": {
        "colab": {
          "base_uri": "https://localhost:8080/"
        },
        "id": "LlQ0qdZDYQm-",
        "outputId": "6a212810-5301-4c66-a14a-33b2ba123a42"
      },
      "outputs": [
        {
          "name": "stdout",
          "output_type": "stream",
          "text": [
            "(array([0, 1, 1]), array([5, 4, 5]))\n"
          ]
        }
      ],
      "source": [
        "import numpy as np\n",
        "\n",
        "arr1 = np.array([[1,2,3,4,5,6], [1,2,3,4,6,6]])\n",
        "\n",
        "x = np.where(arr1 == 6)\n",
        "\n",
        "print(x)"
      ]
    },
    {
      "cell_type": "code",
      "execution_count": null,
      "metadata": {
        "colab": {
          "base_uri": "https://localhost:8080/"
        },
        "id": "mAIok0MraMHD",
        "outputId": "74fdcd67-dd0a-45c4-c772-46bb22378b94"
      },
      "outputs": [
        {
          "name": "stdout",
          "output_type": "stream",
          "text": [
            "['Aliif' 'Maulana' 'arief']\n"
          ]
        }
      ],
      "source": [
        "import numpy as np\n",
        "\n",
        "arr = np.array([\"Aliif\", \"arief\", \"Maulana\"])\n",
        "\n",
        "print(np.sort(arr))"
      ]
    },
    {
      "cell_type": "code",
      "execution_count": 1,
      "metadata": {
        "id": "r5EsbHYobbXh"
      },
      "outputs": [
        {
          "name": "stdout",
          "output_type": "stream",
          "text": [
            "[[9 5 3 7 5]\n",
            " [5 9 5 3 9]\n",
            " [7 5 9 7 9]]\n"
          ]
        }
      ],
      "source": [
        "from numpy import random\n",
        "\n",
        "x = random.choice([3, 5, 7, 9], size=(3, 5))\n",
        "\n",
        "print(x)"
      ]
    }
  ],
  "metadata": {
    "colab": {
      "provenance": []
    },
    "kernelspec": {
      "display_name": "Python 3",
      "name": "python3"
    },
    "language_info": {
      "codemirror_mode": {
        "name": "ipython",
        "version": 3
      },
      "file_extension": ".py",
      "mimetype": "text/x-python",
      "name": "python",
      "nbconvert_exporter": "python",
      "pygments_lexer": "ipython3",
      "version": "3.12.1"
    }
  },
  "nbformat": 4,
  "nbformat_minor": 0
}
