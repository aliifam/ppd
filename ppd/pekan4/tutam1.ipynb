{
 "cells": [
  {
   "cell_type": "markdown",
   "metadata": {},
   "source": [
    "# Tugas 1 (Tambahan)\n",
    "\n",
    "4. Dengan menggunakan dataset dibawah ini, https://www.kaggle.com/datasets/bhavikjikadara/loan-status-prediction\n",
    "(https://www.kaggle.com/datasets/bhavikjikadara/loan-status-prediction)\n",
    "5. Jelaskan apa tujuan penggunaan dataset ini?\n",
    "6. Definisikan atribut yang menjadi input dan output nya?\n",
    "7. Silahkan membuat model klasifikasi logistic reg, knn, DT, dan RF untuk kasus dataset diatas!\n",
    "8. Buatlah tabel yang menjelaskan performa dari model machine learning untuk kasus dataset diatas! Kolom pertama \"model\",\n",
    "kolom selanjutnya \"accuracy, precision, recall\".\n",
    "9. Jelaskan dari hasil experimen diatas, model mana yang paling baik? Jelaskan alasan anda!"
   ]
  },
  {
   "cell_type": "markdown",
   "metadata": {},
   "source": [
    "4. sudah saya download dataset nya.\n",
    "5. Tujuan penggunaan dataset ini adalah untuk memprediksi status pinjaman, apakah akan di approve atau tidak."
   ]
  },
  {
   "cell_type": "code",
   "execution_count": null,
   "metadata": {},
   "outputs": [],
   "source": [
    "import pandas as pd\n"
   ]
  }
 ],
 "metadata": {
  "kernelspec": {
   "display_name": ".venv",
   "language": "python",
   "name": "python3"
  },
  "language_info": {
   "name": "python",
   "version": "3.12.1"
  }
 },
 "nbformat": 4,
 "nbformat_minor": 2
}
